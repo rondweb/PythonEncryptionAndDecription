{
  "nbformat": 4,
  "nbformat_minor": 0,
  "metadata": {
    "colab": {
      "provenance": []
    },
    "kernelspec": {
      "name": "python3",
      "display_name": "Python 3"
    },
    "language_info": {
      "name": "python"
    }
  },
  "cells": [
    {
      "cell_type": "markdown",
      "source": [
        "Installing the packages necessaries for the encryption and decryption"
      ],
      "metadata": {
        "id": "B_p7MzwFD6qR"
      }
    },
    {
      "cell_type": "code",
      "execution_count": null,
      "metadata": {
        "id": "twrNL1hVrILd"
      },
      "outputs": [],
      "source": [
        "!pip install cryptography --upgrade"
      ]
    },
    {
      "cell_type": "code",
      "source": [
        "!wget https://raw.githubusercontent.com/rondweb/PythonEncryptionAndDecription/main/lorem_ipsum.txt"
      ],
      "metadata": {
        "id": "IBCSrWVKsjcV"
      },
      "execution_count": null,
      "outputs": []
    },
    {
      "cell_type": "markdown",
      "source": [
        "Importing the packages"
      ],
      "metadata": {
        "id": "kjndIGiCEsIR"
      }
    },
    {
      "cell_type": "code",
      "source": [
        "# import required module\n",
        "from cryptography.fernet import Fernet"
      ],
      "metadata": {
        "id": "oykRxdFYrSZ4"
      },
      "execution_count": 3,
      "outputs": []
    },
    {
      "cell_type": "markdown",
      "source": [
        "Generating a key that gonna be used for the encryption and decryption of our files"
      ],
      "metadata": {
        "id": "nFY1hPTAEyYe"
      }
    },
    {
      "cell_type": "code",
      "source": [
        "# key generation\n",
        "key = Fernet.generate_key()\n",
        " \n",
        "# string the key in a file\n",
        "with open('filekey.key', 'wb') as filekey:\n",
        "   filekey.write(key)"
      ],
      "metadata": {
        "id": "LvkkjIOzreNn"
      },
      "execution_count": 4,
      "outputs": []
    },
    {
      "cell_type": "markdown",
      "source": [
        "Getting our key, reading our file and encrypting the contenat using the key"
      ],
      "metadata": {
        "id": "LXhTrVwrFubq"
      }
    },
    {
      "cell_type": "code",
      "source": [
        "# opening the key\n",
        "with open('filekey.key', 'rb') as filekey:\n",
        "    key = filekey.read()\n",
        " \n",
        "# using the generated key\n",
        "fernet = Fernet(key)\n",
        " \n",
        "# opening the original file to encrypt\n",
        "with open('lorem_ipsum.txt', 'rb') as file:\n",
        "    original = file.read()\n",
        "     \n",
        "# encrypting the file\n",
        "encrypted = fernet.encrypt(original)"
      ],
      "metadata": {
        "id": "YrJKOWzcrh7A"
      },
      "execution_count": 9,
      "outputs": []
    },
    {
      "cell_type": "markdown",
      "source": [
        "Saving the content file to our file encrypted"
      ],
      "metadata": {
        "id": "9AIhjZQdF8Ha"
      }
    },
    {
      "cell_type": "code",
      "source": [
        "# opening the file in write mode and\n",
        "# writing the encrypted data\n",
        "with open('lorem_ipsum_encrypted.txt', 'wb') as encrypted_file:\n",
        "    encrypted_file.write(encrypted)"
      ],
      "metadata": {
        "id": "umnPg2njsEXW"
      },
      "execution_count": 10,
      "outputs": []
    },
    {
      "cell_type": "markdown",
      "source": [
        "Reading our encrypted file using our key and doing the decryption"
      ],
      "metadata": {
        "id": "2NLzmpIuGNkW"
      }
    },
    {
      "cell_type": "code",
      "source": [
        "# using the key\n",
        "fernet = Fernet(key)\n",
        " \n",
        "# opening the encrypted file\n",
        "with open('/content/lorem_ipsum_encrypted.txt', 'rb') as enc_file:\n",
        "    encrypted = enc_file.read()\n",
        " \n",
        "# decrypting the file\n",
        "decrypted = fernet.decrypt(encrypted)\n",
        " \n",
        "# opening the file in write mode and\n",
        "# writing the decrypted data\n",
        "with open('lorem_ipsum_decrypted.txt', 'wb') as dec_file:\n",
        "    dec_file.write(decrypted)"
      ],
      "metadata": {
        "id": "wlLYb7pHsPzC"
      },
      "execution_count": 11,
      "outputs": []
    }
  ]
}